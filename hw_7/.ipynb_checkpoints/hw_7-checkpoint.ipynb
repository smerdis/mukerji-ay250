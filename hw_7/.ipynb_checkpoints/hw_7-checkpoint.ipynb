{
 "cells": [
  {
   "cell_type": "markdown",
   "metadata": {},
   "source": [
    "# Homework 7: scikit-image\n",
    "\n",
    "Due Tuesday Apr 10, 6pm"
   ]
  },
  {
   "cell_type": "markdown",
   "metadata": {},
   "source": [
    "## Counting objects\n",
    "\n",
    "In class, we saw how to count the number of objects in a microscopy image.  Here, we will repeat that exercise, but make use of some of the algorithms in `scikit-image` to segment the image, and then to determine properties of the resulting objects.\n",
    "\n",
    "As input, use the image `skimage.data.coins`.  Segment the image, and then calculate the area and eccentricity of each coin.\n",
    "\n",
    "There are various ways to do this.  One would be:\n",
    "\n",
    "1. Equalize the input image (see `skimage.exposure`)\n",
    "2. Threshold the image (`skimage.filters.otsu`)\n",
    "3. Remove objects touching the boundary (`skimage.segmentation.clear_border`)\n",
    "4. Apply morphological closing (`skimage.morphology.closing`)\n",
    "5. Remove small objects (`skimage.measure.regionprops`).\n",
    "   Visualize the results if you want with `skimage.color.label2rgb`.\n",
    "7. Calculate the area and eccentricity of each coin, and display the\n",
    "   original image with this information on it (`matplotlib.pyplot.text` or `matplotlib.pyplot.annotate`)"
   ]
  },
  {
   "cell_type": "markdown",
   "metadata": {},
   "source": [
    "### Solution begins here\n",
    "\n",
    "I tried initially to use the strategy outlined above, so the first few steps are the same."
   ]
  },
  {
   "cell_type": "code",
   "execution_count": null,
   "metadata": {
    "collapsed": true
   },
   "outputs": [],
   "source": [
    "%matplotlib inline"
   ]
  },
  {
   "cell_type": "code",
   "execution_count": null,
   "metadata": {
    "collapsed": true
   },
   "outputs": [],
   "source": [
    "import numpy as np\n",
    "from scipy import ndimage as ndi\n",
    "from skimage import data, exposure, filters, segmentation, morphology, measure\n",
    "from matplotlib import pyplot as plt"
   ]
  },
  {
   "cell_type": "code",
   "execution_count": null,
   "metadata": {},
   "outputs": [],
   "source": [
    "img = data.coins()\n",
    "print(img.shape)\n",
    "plt.imshow(img, cmap=\"gray\")"
   ]
  },
  {
   "cell_type": "code",
   "execution_count": null,
   "metadata": {},
   "outputs": [],
   "source": [
    "# Equalize histogram\n",
    "img_eq = exposure.equalize_hist(img)\n",
    "plt.imshow(img_eq, cmap=\"gray\")"
   ]
  },
  {
   "cell_type": "code",
   "execution_count": null,
   "metadata": {},
   "outputs": [],
   "source": [
    "# Threshold\n",
    "img_thresh = np.copy(img_eq) # I'm doing this so img_eq is not modified, so that we can view all different stages\n",
    "thresh = filters.threshold_yen(img_thresh) # seems to remove more of background than otsu, tried both...\n",
    "mask = img_thresh < thresh\n",
    "img_thresh[mask] = 0\n",
    "plt.imshow(img_thresh, cmap=\"gray\")"
   ]
  },
  {
   "cell_type": "code",
   "execution_count": null,
   "metadata": {},
   "outputs": [],
   "source": [
    "img_bord = np.copy(img_thresh)\n",
    "mask_bord = segmentation.clear_border(mask)\n",
    "img_bord[mask_bord] = 0\n",
    "plt.imshow(img_bord, cmap=\"gray\")"
   ]
  },
  {
   "cell_type": "markdown",
   "metadata": {},
   "source": [
    "### Trying a different way\n",
    "\n",
    "While trying to get the markers/labels right for the clear_border function (you can see in the cell above that it's wrong), I came across this page: http://scikit-image.org/docs/dev/user_guide/tutorial_segmentation.html\n",
    "\n",
    "That lovely page pretty much does this problem for us, so it was a bit of an ethical dilemma whether I could just use the region-based approach it described. In the end I chose to, since the point of this class is to know what python provides, and the page is fairly convincing about why a region-based approach is more robust. So at this point I started to implement that solution instead."
   ]
  },
  {
   "cell_type": "code",
   "execution_count": null,
   "metadata": {},
   "outputs": [],
   "source": [
    "markers = np.zeros_like(img) # we start from the original image\n",
    "markers[img < 30] = 1\n",
    "markers[img > 150] = 2\n",
    "plt.imshow(markers)"
   ]
  },
  {
   "cell_type": "code",
   "execution_count": null,
   "metadata": {},
   "outputs": [],
   "source": [
    "e_map = filters.sobel(img) # elevation map\n",
    "segmentation = morphology.watershed(e_map, markers)\n",
    "segmentation = ndi.binary_fill_holes(segmentation - 1) # fill holes\n",
    "plt.imshow(segmentation)"
   ]
  },
  {
   "cell_type": "code",
   "execution_count": null,
   "metadata": {},
   "outputs": [],
   "source": [
    "coins_cleaned = morphology.remove_small_objects(segmentation, 21)\n",
    "plt.imshow(coins_cleaned)"
   ]
  },
  {
   "cell_type": "code",
   "execution_count": null,
   "metadata": {},
   "outputs": [],
   "source": [
    "from skimage.color import label2rgb\n",
    "labeled_coins, num_coins = ndi.label(coins_cleaned)\n",
    "coinprops = measure.regionprops(labeled_coins)\n",
    "image_label_overlay = label2rgb(labeled_coins, image=img)\n",
    "plt.imshow(image_label_overlay)\n",
    "\n",
    "print(f\"There are {num_coins} coins.\")"
   ]
  },
  {
   "cell_type": "markdown",
   "metadata": {},
   "source": [
    "### Annotate"
   ]
  },
  {
   "cell_type": "code",
   "execution_count": null,
   "metadata": {},
   "outputs": [],
   "source": [
    "fig, ax = plt.subplots(1, 1)\n",
    "ax.imshow(img, cmap=\"gray\")\n",
    "\n",
    "for coin in coinprops:\n",
    "    xytextcoords = coin.centroid\n",
    "    #print(coin.area, xytextcoords)\n",
    "    ax.annotate(f\"a: {coin.filled_area}\\ne: {coin.eccentricity:.2f}\",\n",
    "                    xy = coin.centroid, xytext=xytextcoords, verticalalignment='bottom', horizontalalignment=\"left\",\n",
    "                   arrowprops=dict(facecolor='black', shrink=0.05))\n",
    "    \n",
    "ax.axis('off')"
   ]
  },
  {
   "cell_type": "markdown",
   "metadata": {},
   "source": [
    "### Conclusion\n",
    "\n",
    "The annotation still isn't exactly where I want it to be (nor is it in white), but I've spent too much time on it so I should move on to problem 2. I think this has to do with how coordiantes are interpreted (x/y vs r/c), which is an option one can provide in scikit-image 0.14, so that should help once 0.14 is in conda!\n",
    "\n",
    "This was a fun problem though, and really showed the diversity of tools that scikit-image provides, and how they enable a variety of approaches to a problem."
   ]
  },
  {
   "cell_type": "markdown",
   "metadata": {},
   "source": [
    "## Panorama stitching\n",
    "\n",
    "One of the scikit-image tutorials shows [how to do panorama stitching](https://github.com/scikit-image/skimage-tutorials/blob/master/lectures/solutions/adv3_panorama-stitching-solution.ipynb).\n",
    "\n",
    "Take 3 or 4 overlapping photos of your own, and use the procedure described to stitch your own panorama."
   ]
  },
  {
   "cell_type": "code",
   "execution_count": null,
   "metadata": {
    "collapsed": true
   },
   "outputs": [],
   "source": [
    "%matplotlib inline\n",
    "import numpy as np\n",
    "import matplotlib.pyplot as plt\n",
    "\n",
    "def compare(*images, **kwargs):\n",
    "    \"\"\"\n",
    "    Utility function to display images side by side.\n",
    "    \n",
    "    Parameters\n",
    "    ----------\n",
    "    image0, image1, image2, ... : ndarrray\n",
    "        Images to display.\n",
    "    labels : list\n",
    "        Labels for the different images.\n",
    "    \"\"\"\n",
    "    f, axes = plt.subplots(1, len(images), **kwargs)\n",
    "    axes = np.array(axes, ndmin=1)\n",
    "    \n",
    "    labels = kwargs.pop('labels', None)\n",
    "    if labels is None:\n",
    "        labels = [''] * len(images)\n",
    "    \n",
    "    for n, (image, label) in enumerate(zip(images, labels)):\n",
    "        axes[n].imshow(image, interpolation='nearest', cmap='gray')\n",
    "        axes[n].set_title(label)\n",
    "        axes[n].axis('off')\n",
    "    \n",
    "    f.tight_layout()"
   ]
  },
  {
   "cell_type": "code",
   "execution_count": null,
   "metadata": {},
   "outputs": [],
   "source": [
    "import skimage.io as io\n",
    "\n",
    "pano_imgs = io.ImageCollection('IMG_20180410*')\n",
    "compare(*pano_imgs, figsize=(12, 10))"
   ]
  },
  {
   "cell_type": "code",
   "execution_count": null,
   "metadata": {},
   "outputs": [],
   "source": [
    "from skimage.color import rgb2gray\n",
    "\n",
    "pano0, pano1, pano2 = [rgb2gray(im) for im in pano_imgs]\n",
    "print(pano0.shape)\n",
    "compare(pano0, pano1, pano2, figsize=(12, 10))"
   ]
  },
  {
   "cell_type": "markdown",
   "metadata": {
    "collapsed": true
   },
   "source": [
    "### Feature detection and matching"
   ]
  },
  {
   "cell_type": "code",
   "execution_count": null,
   "metadata": {
    "collapsed": true
   },
   "outputs": [],
   "source": [
    "from skimage.feature import ORB\n",
    "\n",
    "# Initialize ORB\n",
    "# 800 keypoints is large enough for robust results, \n",
    "# but low enough to run within a few seconds. \n",
    "orb = ORB(n_keypoints=800, fast_threshold=0.05)\n",
    "\n",
    "# Detect keypoints in pano0\n",
    "orb.detect_and_extract(pano0)\n",
    "keypoints0 = orb.keypoints\n",
    "descriptors0 = orb.descriptors\n",
    "\n",
    "# Detect keypoints in pano1\n",
    "orb.detect_and_extract(pano1)\n",
    "keypoints1 = orb.keypoints\n",
    "descriptors1 = orb.descriptors\n",
    "\n",
    "# Detect keypoints in pano2\n",
    "orb.detect_and_extract(pano2)\n",
    "keypoints2 = orb.keypoints\n",
    "descriptors2 = orb.descriptors"
   ]
  },
  {
   "cell_type": "code",
   "execution_count": null,
   "metadata": {
    "collapsed": true
   },
   "outputs": [],
   "source": [
    "from skimage.feature import match_descriptors\n",
    "\n",
    "# Match descriptors between left/right images and the center\n",
    "matches01 = match_descriptors(descriptors0, descriptors1, cross_check=True)\n",
    "matches12 = match_descriptors(descriptors1, descriptors2, cross_check=True)"
   ]
  },
  {
   "cell_type": "code",
   "execution_count": null,
   "metadata": {
    "collapsed": true
   },
   "outputs": [],
   "source": [
    "from skimage.transform import ProjectiveTransform\n",
    "from skimage.measure import ransac\n",
    "\n",
    "# Select keypoints from \n",
    "#   * source (image to be registered): pano0\n",
    "#   * target (reference image): pano1, our middle frame registration target\n",
    "src = keypoints0[matches01[:, 0]][:, ::-1]\n",
    "dst = keypoints1[matches01[:, 1]][:, ::-1]\n",
    "\n",
    "model_robust01, inliers01 = ransac((src, dst), ProjectiveTransform,\n",
    "                                   min_samples=2, residual_threshold=1, max_trials=300)\n",
    "\n",
    "# Select keypoints from \n",
    "#   * source (image to be registered): pano2\n",
    "#   * target (reference image): pano1, our middle frame registration target\n",
    "src = keypoints2[matches12[:, 1]][:, ::-1]\n",
    "dst = keypoints1[matches12[:, 0]][:, ::-1]\n",
    "\n",
    "model_robust12, inliers12 = ransac((src, dst), ProjectiveTransform,\n",
    "                                   min_samples=4, residual_threshold=1, max_trials=300)"
   ]
  },
  {
   "cell_type": "markdown",
   "metadata": {},
   "source": [
    "### Warping code begins here\n",
    "\n",
    "I experimented a bit here, because I was getting pretty weird results with bi-cubic interpolation (order=3). I tried order=2 but apparently there's a bug in scikit-image, so I got a warning to avoid this. Going with bilinear (order=1) things looked better but still strange."
   ]
  },
  {
   "cell_type": "code",
   "execution_count": null,
   "metadata": {},
   "outputs": [],
   "source": [
    "from skimage.transform import SimilarityTransform\n",
    "\n",
    "# Shape of middle image, our registration target\n",
    "r, c = pano1.shape[:2]\n",
    "\n",
    "# Note that transformations take coordinates in (x, y) format,\n",
    "# not (row, column), in order to be consistent with most literature\n",
    "corners = np.array([[0, 0],\n",
    "                    [0, r],\n",
    "                    [c, 0],\n",
    "                    [c, r]])\n",
    "\n",
    "# Warp the image corners to their new positions\n",
    "warped_corners01 = model_robust01(corners)\n",
    "warped_corners12 = model_robust12(corners)\n",
    "\n",
    "# Find the extents of both the reference image and the warped\n",
    "# target image\n",
    "all_corners = np.vstack((warped_corners01, warped_corners12, corners))\n",
    "\n",
    "# The overall output shape will be max - min\n",
    "corner_min = np.min(all_corners, axis=0)\n",
    "corner_max = np.max(all_corners, axis=0)\n",
    "output_shape = (corner_max - corner_min)\n",
    "\n",
    "# Ensure integer shape with np.ceil and dtype conversion\n",
    "output_shape = np.ceil(output_shape[::-1]).astype(int)\n",
    "print(output_shape)"
   ]
  },
  {
   "cell_type": "code",
   "execution_count": null,
   "metadata": {},
   "outputs": [],
   "source": [
    "from skimage.transform import warp\n",
    "\n",
    "# This in-plane offset is the only necessary transformation for the middle image\n",
    "offset1 = SimilarityTransform(translation= -corner_min)\n",
    "\n",
    "# Translate pano1 into place\n",
    "pano1_warped = warp(pano1, offset1.inverse, order=3,\n",
    "                    output_shape=output_shape, cval=-1)\n",
    "\n",
    "# Acquire the image mask for later use\n",
    "pano1_mask = (pano1_warped != -1)  # Mask == 1 inside image\n",
    "pano1_warped[~pano1_mask] = 0      # Return background values to 0\n"
   ]
  },
  {
   "cell_type": "code",
   "execution_count": null,
   "metadata": {
    "collapsed": true
   },
   "outputs": [],
   "source": [
    "# Warp pano0 (left) to pano1\n",
    "transform01 = (model_robust01 + offset1).inverse\n",
    "pano0_warped = warp(pano0, transform01, order=3,\n",
    "                    output_shape=output_shape, cval=-1)\n",
    "\n",
    "pano0_mask = (pano0_warped != -1)  # Mask == 1 inside image\n",
    "pano0_warped[~pano0_mask] = 0      # Return background values to 0"
   ]
  },
  {
   "cell_type": "code",
   "execution_count": null,
   "metadata": {
    "collapsed": true
   },
   "outputs": [],
   "source": [
    "# Warp pano2 (right) to pano1 \n",
    "transform12 = (model_robust12 + offset1).inverse\n",
    "pano2_warped = warp(pano2, transform12, order=3,\n",
    "                    output_shape=output_shape, cval=-1)\n",
    "\n",
    "pano2_mask = (pano2_warped != -1)  # Mask == 1 inside image\n",
    "pano2_warped[~pano2_mask] = 0      # Return background values to 0"
   ]
  },
  {
   "cell_type": "code",
   "execution_count": null,
   "metadata": {},
   "outputs": [],
   "source": [
    "compare(pano0_warped, pano1_warped, pano2_warped, figsize=(12, 10));\n"
   ]
  },
  {
   "cell_type": "code",
   "execution_count": null,
   "metadata": {},
   "outputs": [],
   "source": [
    "fig, ax = plt.subplots(figsize=(15,12))\n",
    "\n",
    "# Generate difference image and inspect it\n",
    "difference_image = pano0_warped - pano1_warped\n",
    "ax.imshow(difference_image, cmap='gray')\n",
    "\n",
    "ax.axis('off');"
   ]
  },
  {
   "cell_type": "markdown",
   "metadata": {},
   "source": [
    "**I'm not really sure what's up with these warps!** I've tried a bunch of different images and options, but at least one of them looks all messed up (no discernable structure, just distorted lines)"
   ]
  },
  {
   "cell_type": "code",
   "execution_count": null,
   "metadata": {
    "collapsed": true
   },
   "outputs": [],
   "source": [
    "ymax = output_shape[1] - 1\n",
    "xmax = output_shape[0] - 1\n",
    "\n",
    "# Start anywhere along the top and bottom, left of center.\n",
    "mask_pts01 = [[0,    ymax // 3],\n",
    "              [xmax, ymax // 3]]\n",
    "\n",
    "# Start anywhere along the top and bottom, right of center.\n",
    "mask_pts12 = [[0,    2*ymax // 3],\n",
    "              [xmax, 2*ymax // 3]]\n"
   ]
  },
  {
   "cell_type": "code",
   "execution_count": null,
   "metadata": {
    "collapsed": true
   },
   "outputs": [],
   "source": [
    "from skimage.measure import label\n",
    "\n",
    "def generate_costs(diff_image, mask, vertical=True, gradient_cutoff=2.):\n",
    "    \"\"\"\n",
    "    Ensures equal-cost paths from edges to region of interest.\n",
    "    \n",
    "    Parameters\n",
    "    ----------\n",
    "    diff_image : ndarray of floats\n",
    "        Difference of two overlapping images.\n",
    "    mask : ndarray of bools\n",
    "        Mask representing the region of interest in ``diff_image``.\n",
    "    vertical : bool\n",
    "        Control operation orientation.\n",
    "    gradient_cutoff : float\n",
    "        Controls how far out of parallel lines can be to edges before\n",
    "        correction is terminated. The default (2.) is good for most cases.\n",
    "        \n",
    "    Returns\n",
    "    -------\n",
    "    costs_arr : ndarray of floats\n",
    "        Adjusted costs array, ready for use.\n",
    "    \"\"\"\n",
    "    if vertical is not True:\n",
    "        return tweak_costs(diff_image.T, mask.T, vertical=vertical,\n",
    "                           gradient_cutoff=gradient_cutoff).T\n",
    "    \n",
    "    # Start with a high-cost array of 1's\n",
    "    costs_arr = np.ones_like(diff_image)\n",
    "    \n",
    "    # Obtain extent of overlap\n",
    "    row, col = mask.nonzero()\n",
    "    cmin = col.min()\n",
    "    cmax = col.max()\n",
    "\n",
    "    # Label discrete regions\n",
    "    cslice = slice(cmin, cmax + 1)\n",
    "    labels = label(mask[:, cslice])\n",
    "    \n",
    "    # Find distance from edge to region\n",
    "    upper = (labels == 0).sum(axis=0)\n",
    "    lower = (labels == 2).sum(axis=0)\n",
    "    \n",
    "    # Reject areas of high change\n",
    "    ugood = np.abs(np.gradient(upper)) < gradient_cutoff\n",
    "    lgood = np.abs(np.gradient(lower)) < gradient_cutoff\n",
    "    \n",
    "    # Give areas slightly farther from edge a cost break\n",
    "    costs_upper = np.ones_like(upper, dtype=np.float64)\n",
    "    costs_lower = np.ones_like(lower, dtype=np.float64)\n",
    "    costs_upper[ugood] = upper.min() / np.maximum(upper[ugood], 1)\n",
    "    costs_lower[lgood] = lower.min() / np.maximum(lower[lgood], 1)\n",
    "    \n",
    "    # Expand from 1d back to 2d\n",
    "    vdist = mask.shape[0]\n",
    "    costs_upper = costs_upper[np.newaxis, :].repeat(vdist, axis=0)\n",
    "    costs_lower = costs_lower[np.newaxis, :].repeat(vdist, axis=0)\n",
    "    \n",
    "    # Place these in output array\n",
    "    costs_arr[:, cslice] = costs_upper * (labels == 0)\n",
    "    costs_arr[:, cslice] +=  costs_lower * (labels == 2)\n",
    "    \n",
    "    # Finally, place the difference image\n",
    "    costs_arr[mask] = diff_image[mask]\n",
    "    \n",
    "    return costs_arr"
   ]
  },
  {
   "cell_type": "code",
   "execution_count": null,
   "metadata": {
    "collapsed": true
   },
   "outputs": [],
   "source": [
    "# Start with the absolute value of the difference image.\n",
    "# np.abs is necessary because we don't want negative costs!\n",
    "costs01 = generate_costs(np.abs(pano0_warped - pano1_warped),\n",
    "                         pano0_mask & pano1_mask)\n"
   ]
  },
  {
   "cell_type": "code",
   "execution_count": null,
   "metadata": {
    "collapsed": true
   },
   "outputs": [],
   "source": [
    "costs01[0,  :] = 0\n",
    "costs01[-1, :] = 0"
   ]
  },
  {
   "cell_type": "code",
   "execution_count": null,
   "metadata": {},
   "outputs": [],
   "source": [
    "fig, ax = plt.subplots(figsize=(15, 12))\n",
    "\n",
    "ax.imshow(costs01, cmap='gray', interpolation='none')\n",
    "\n",
    "ax.axis('off');"
   ]
  },
  {
   "cell_type": "code",
   "execution_count": null,
   "metadata": {
    "collapsed": true
   },
   "outputs": [],
   "source": [
    "from skimage.graph import route_through_array\n",
    "\n",
    "# Arguments are:\n",
    "#   cost array\n",
    "#   start pt\n",
    "#   end pt\n",
    "#   can it traverse diagonally\n",
    "pts, _ = route_through_array(costs01, mask_pts01[0], mask_pts01[1], fully_connected=True)\n",
    "\n",
    "# Convert list of lists to 2d coordinate array for easier indexing\n",
    "pts = np.array(pts)"
   ]
  },
  {
   "cell_type": "code",
   "execution_count": null,
   "metadata": {},
   "outputs": [],
   "source": [
    "fig, ax = plt.subplots(figsize=(12, 12))\n",
    "\n",
    "# Plot the difference image\n",
    "ax.imshow(pano0_warped - pano1_warped, cmap='gray')\n",
    "\n",
    "# Overlay the minimum-cost path\n",
    "ax.plot(pts[:, 1], pts[:, 0])  \n",
    "\n",
    "plt.tight_layout()\n",
    "ax.axis('off');\n"
   ]
  },
  {
   "cell_type": "code",
   "execution_count": null,
   "metadata": {
    "collapsed": true
   },
   "outputs": [],
   "source": [
    "# Start with an array of zeros and place the path\n",
    "mask0 = np.zeros_like(pano0_warped, dtype=np.uint8)\n",
    "mask0[pts[:, 0], pts[:, 1]] = 1"
   ]
  },
  {
   "cell_type": "code",
   "execution_count": null,
   "metadata": {},
   "outputs": [],
   "source": [
    "fig, ax = plt.subplots(figsize=(11, 11))\n",
    "\n",
    "# View the path in black and white\n",
    "ax.imshow(mask0, cmap='gray')\n",
    "\n",
    "ax.axis('off');"
   ]
  },
  {
   "cell_type": "code",
   "execution_count": null,
   "metadata": {},
   "outputs": [],
   "source": [
    "from skimage.measure import label\n",
    "\n",
    "# Labeling starts with one at point (0, 0)\n",
    "mask0 = (label(mask0, connectivity=1, background=-1) == 1)\n",
    "\n",
    "# The result\n",
    "plt.imshow(mask0, cmap='gray');"
   ]
  },
  {
   "cell_type": "code",
   "execution_count": null,
   "metadata": {
    "collapsed": true
   },
   "outputs": [],
   "source": [
    "# Start with the absolute value of the difference image.\n",
    "# np.abs necessary because we don't want negative costs!\n",
    "costs12 = generate_costs(np.abs(pano1_warped - pano2_warped),\n",
    "                         pano1_mask & pano2_mask)\n",
    "\n",
    "# Allow the path to \"slide\" along top and bottom edges to the optimal \n",
    "# horizontal position by setting top and bottom edges to zero cost\n",
    "costs12[0,  :] = 0\n",
    "costs12[-1, :] = 0"
   ]
  },
  {
   "cell_type": "code",
   "execution_count": null,
   "metadata": {
    "collapsed": true
   },
   "outputs": [],
   "source": [
    "costs12[mask0 > 0] = 1\n"
   ]
  },
  {
   "cell_type": "code",
   "execution_count": null,
   "metadata": {},
   "outputs": [],
   "source": [
    "fig, ax = plt.subplots(figsize=(8, 8))\n",
    "ax.imshow(costs12, cmap='gray');\n"
   ]
  },
  {
   "cell_type": "code",
   "execution_count": null,
   "metadata": {
    "collapsed": true
   },
   "outputs": [],
   "source": [
    "# Arguments are:\n",
    "#   cost array\n",
    "#   start pt\n",
    "#   end pt\n",
    "#   can it traverse diagonally\n",
    "pts, _ = route_through_array(costs12, mask_pts12[0], mask_pts12[1], fully_connected=True)\n",
    "\n",
    "# Convert list of lists to 2d coordinate array for easier indexing\n",
    "pts = np.array(pts)"
   ]
  },
  {
   "cell_type": "code",
   "execution_count": null,
   "metadata": {},
   "outputs": [],
   "source": [
    "fig, ax = plt.subplots(figsize=(12, 12))\n",
    "\n",
    "# Plot the difference image\n",
    "ax.imshow(pano1_warped - pano2_warped, cmap='gray')\n",
    "\n",
    "# Overlay the minimum-cost path\n",
    "ax.plot(pts[:, 1], pts[:, 0]);\n",
    "\n",
    "ax.axis('off');\n"
   ]
  },
  {
   "cell_type": "code",
   "execution_count": null,
   "metadata": {
    "collapsed": true
   },
   "outputs": [],
   "source": [
    "mask2 = np.zeros_like(pano0_warped, dtype=np.uint8)\n",
    "mask2[pts[:, 0], pts[:, 1]] = 1\n"
   ]
  },
  {
   "cell_type": "code",
   "execution_count": null,
   "metadata": {},
   "outputs": [],
   "source": [
    "mask2 = (label(mask2, connectivity=1, background=-1) == 3)\n",
    "\n",
    "# The result\n",
    "plt.imshow(mask2, cmap='gray');"
   ]
  },
  {
   "cell_type": "code",
   "execution_count": null,
   "metadata": {
    "collapsed": true
   },
   "outputs": [],
   "source": [
    "mask1 = ~(mask0 | mask2).astype(bool)\n"
   ]
  },
  {
   "cell_type": "code",
   "execution_count": null,
   "metadata": {
    "collapsed": true
   },
   "outputs": [],
   "source": [
    "def add_alpha(img, mask=None):\n",
    "    \"\"\"\n",
    "    Adds a masked alpha channel to an image.\n",
    "    \n",
    "    Parameters\n",
    "    ----------\n",
    "    img : (M, N[, 3]) ndarray\n",
    "        Image data, should be rank-2 or rank-3 with RGB channels\n",
    "    mask : (M, N[, 3]) ndarray, optional\n",
    "        Mask to be applied. If None, the alpha channel is added\n",
    "        with full opacity assumed (1) at all locations.\n",
    "    \"\"\"\n",
    "    from skimage.color import gray2rgb\n",
    "    if mask is None:\n",
    "        mask = np.ones_like(img)\n",
    "        \n",
    "    if img.ndim == 2:\n",
    "        img = gray2rgb(img)\n",
    "    \n",
    "    return np.dstack((img, mask))"
   ]
  },
  {
   "cell_type": "code",
   "execution_count": null,
   "metadata": {},
   "outputs": [],
   "source": [
    "pano0_final = add_alpha(pano0_warped, mask0)\n",
    "pano1_final = add_alpha(pano1_warped, mask1)\n",
    "pano2_final = add_alpha(pano2_warped, mask2)\n",
    "\n",
    "compare(pano0_final, pano1_final, pano2_final, figsize=(12, 12))\n"
   ]
  },
  {
   "cell_type": "code",
   "execution_count": null,
   "metadata": {},
   "outputs": [],
   "source": [
    "fig, ax = plt.subplots(figsize=(12, 12))\n",
    "\n",
    "# This is a perfect combination, but matplotlib's interpolation\n",
    "# makes it appear to have gaps. So we turn it off.\n",
    "ax.imshow(pano0_final, interpolation='none')\n",
    "ax.imshow(pano1_final, interpolation='none')\n",
    "ax.imshow(pano2_final, interpolation='none')\n",
    "\n",
    "fig.tight_layout()\n",
    "ax.axis('off');"
   ]
  },
  {
   "cell_type": "code",
   "execution_count": null,
   "metadata": {
    "collapsed": true
   },
   "outputs": [],
   "source": [
    "# Identical transforms as before, except\n",
    "#   * Operating on original color images\n",
    "#   * filling with cval=0 as we know the masks\n",
    "pano0_color = warp(pano_imgs[0], (model_robust01 + offset1).inverse, order=3,\n",
    "                   output_shape=output_shape, cval=0)\n",
    "\n",
    "pano1_color = warp(pano_imgs[1], offset1.inverse, order=3,\n",
    "                   output_shape=output_shape, cval=0)\n",
    "\n",
    "pano2_color = warp(pano_imgs[2], (model_robust12 + offset1).inverse, order=3,\n",
    "                   output_shape=output_shape, cval=0)"
   ]
  },
  {
   "cell_type": "code",
   "execution_count": null,
   "metadata": {},
   "outputs": [],
   "source": [
    "pano0_final = add_alpha(pano0_color, mask0)\n",
    "pano1_final = add_alpha(pano1_color, mask1)\n",
    "pano2_final = add_alpha(pano2_color, mask2)\n"
   ]
  },
  {
   "cell_type": "code",
   "execution_count": null,
   "metadata": {},
   "outputs": [],
   "source": [
    "fig, ax = plt.subplots(figsize=(12, 12))\n",
    "\n",
    "# Turn off matplotlib's interpolation\n",
    "ax.imshow(pano0_final, interpolation='none')\n",
    "ax.imshow(pano1_final, interpolation='none')\n",
    "ax.imshow(pano2_final, interpolation='none')\n",
    "\n",
    "fig.tight_layout()\n",
    "ax.axis('off');"
   ]
  },
  {
   "cell_type": "code",
   "execution_count": null,
   "metadata": {},
   "outputs": [],
   "source": [
    "from skimage.color import gray2rgb\n",
    "\n",
    "# Start with empty image\n",
    "pano_combined = np.zeros_like(pano0_color)\n",
    "\n",
    "# Place the masked portion of each image into the array\n",
    "# masks are 2d, they need to be (M, N, 3) to match the color images\n",
    "pano_combined += pano0_color * gray2rgb(mask0)\n",
    "pano_combined += pano1_color * gray2rgb(mask1)\n",
    "pano_combined += pano2_color * gray2rgb(mask2)\n",
    "\n",
    "\n",
    "# Save the output - precision loss warning is expected\n",
    "# moving from floating point -> uint8\n",
    "io.imsave('./pano-advanced-output.png', pano_combined)"
   ]
  },
  {
   "cell_type": "markdown",
   "metadata": {},
   "source": [
    "### Conclusion and notes\n",
    "\n",
    "This was pretty interesting! Wish I had more time to debug what was causing my warps to be bad. It looks like that's where the error crept in, since at least 1 image had a messed up warp to the reference image. I tried a few different warp orders, played around with the other parameters, other images, etc. There seems to be a random component to it too, in that I'm not getting identical results from run to run (this was mentioned in the tutorial). So maybe I'll get lucky and it'll work when you grade this :)\n",
    "\n",
    "Overall it is cool to see how useful and non-trivial image manipulation can be done in pure python."
   ]
  },
  {
   "cell_type": "code",
   "execution_count": null,
   "metadata": {
    "collapsed": true
   },
   "outputs": [],
   "source": []
  }
 ],
 "metadata": {
  "kernelspec": {
   "display_name": "Python 3",
   "language": "python",
   "name": "python3"
  },
  "language_info": {
   "codemirror_mode": {
    "name": "ipython",
    "version": 3
   },
   "file_extension": ".py",
   "mimetype": "text/x-python",
   "name": "python",
   "nbconvert_exporter": "python",
   "pygments_lexer": "ipython3",
   "version": "3.6.2"
  },
  "widgets": {
   "state": {},
   "version": "1.1.2"
  }
 },
 "nbformat": 4,
 "nbformat_minor": 1
}
