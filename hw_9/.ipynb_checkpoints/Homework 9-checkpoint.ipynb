{
 "cells": [
  {
   "cell_type": "code",
   "execution_count": 1,
   "metadata": {
    "collapsed": true
   },
   "outputs": [],
   "source": [
    "%matplotlib inline"
   ]
  },
  {
   "cell_type": "code",
   "execution_count": 2,
   "metadata": {},
   "outputs": [],
   "source": [
    "import numpy as np\n",
    "import pandas as pd\n",
    "\n",
    "import pymc3 as pm\n",
    "\n",
    "import matplotlib.pyplot as plt"
   ]
  },
  {
   "cell_type": "code",
   "execution_count": 16,
   "metadata": {},
   "outputs": [],
   "source": [
    "pm.Normal?"
   ]
  },
  {
   "cell_type": "code",
   "execution_count": 3,
   "metadata": {
    "collapsed": true
   },
   "outputs": [],
   "source": [
    "datafile = \"location_data_hw9_2018.csv\""
   ]
  },
  {
   "cell_type": "code",
   "execution_count": 4,
   "metadata": {
    "collapsed": true
   },
   "outputs": [],
   "source": [
    "df = pd.read_csv(datafile)"
   ]
  },
  {
   "cell_type": "code",
   "execution_count": 5,
   "metadata": {},
   "outputs": [
    {
     "data": {
      "text/html": [
       "<div>\n",
       "<style>\n",
       "    .dataframe thead tr:only-child th {\n",
       "        text-align: right;\n",
       "    }\n",
       "\n",
       "    .dataframe thead th {\n",
       "        text-align: left;\n",
       "    }\n",
       "\n",
       "    .dataframe tbody tr th {\n",
       "        vertical-align: top;\n",
       "    }\n",
       "</style>\n",
       "<table border=\"1\" class=\"dataframe\">\n",
       "  <thead>\n",
       "    <tr style=\"text-align: right;\">\n",
       "      <th></th>\n",
       "      <th>t</th>\n",
       "      <th>red_pos_X</th>\n",
       "      <th>red_pos_Y</th>\n",
       "      <th>blue_pos_X</th>\n",
       "      <th>blue_pos_Y</th>\n",
       "    </tr>\n",
       "  </thead>\n",
       "  <tbody>\n",
       "    <tr>\n",
       "      <th>0</th>\n",
       "      <td>1.718397</td>\n",
       "      <td>1.330174</td>\n",
       "      <td>0.993564</td>\n",
       "      <td>1.081700</td>\n",
       "      <td>-1.295918</td>\n",
       "    </tr>\n",
       "    <tr>\n",
       "      <th>1</th>\n",
       "      <td>2.998056</td>\n",
       "      <td>1.310404</td>\n",
       "      <td>1.012772</td>\n",
       "      <td>1.004997</td>\n",
       "      <td>-1.254394</td>\n",
       "    </tr>\n",
       "    <tr>\n",
       "      <th>2</th>\n",
       "      <td>6.015073</td>\n",
       "      <td>1.270312</td>\n",
       "      <td>1.028386</td>\n",
       "      <td>1.113696</td>\n",
       "      <td>-1.321257</td>\n",
       "    </tr>\n",
       "    <tr>\n",
       "      <th>3</th>\n",
       "      <td>8.267651</td>\n",
       "      <td>1.331131</td>\n",
       "      <td>0.948223</td>\n",
       "      <td>1.001845</td>\n",
       "      <td>-1.285209</td>\n",
       "    </tr>\n",
       "    <tr>\n",
       "      <th>4</th>\n",
       "      <td>9.279321</td>\n",
       "      <td>1.346159</td>\n",
       "      <td>0.963485</td>\n",
       "      <td>1.113008</td>\n",
       "      <td>-1.261147</td>\n",
       "    </tr>\n",
       "  </tbody>\n",
       "</table>\n",
       "</div>"
      ],
      "text/plain": [
       "          t  red_pos_X  red_pos_Y  blue_pos_X  blue_pos_Y\n",
       "0  1.718397   1.330174   0.993564    1.081700   -1.295918\n",
       "1  2.998056   1.310404   1.012772    1.004997   -1.254394\n",
       "2  6.015073   1.270312   1.028386    1.113696   -1.321257\n",
       "3  8.267651   1.331131   0.948223    1.001845   -1.285209\n",
       "4  9.279321   1.346159   0.963485    1.113008   -1.261147"
      ]
     },
     "execution_count": 5,
     "metadata": {},
     "output_type": "execute_result"
    }
   ],
   "source": [
    "df.head()"
   ]
  },
  {
   "cell_type": "code",
   "execution_count": 6,
   "metadata": {},
   "outputs": [],
   "source": [
    "def t0_center(s):\n",
    "    # assumes a series is passed in in order\n",
    "    return s-s[0]\n",
    "\n",
    "def calc_displacement(x, y):\n",
    "    return np.sqrt(x**2 + y**2)\n",
    "\n",
    "df['redX'] = t0_center(df.red_pos_X)\n",
    "df['redY'] = t0_center(df.red_pos_Y)\n",
    "df['blueX'] = t0_center(df.blue_pos_X)\n",
    "df['blueY'] = t0_center(df.blue_pos_X)\n",
    "df['red_disp'] = calc_displacement(df.redX, df.redY)\n",
    "df['blue_disp'] = calc_displacement(df.blueX, df.blueY)"
   ]
  },
  {
   "cell_type": "code",
   "execution_count": 7,
   "metadata": {},
   "outputs": [
    {
     "data": {
      "text/html": [
       "<div>\n",
       "<style>\n",
       "    .dataframe thead tr:only-child th {\n",
       "        text-align: right;\n",
       "    }\n",
       "\n",
       "    .dataframe thead th {\n",
       "        text-align: left;\n",
       "    }\n",
       "\n",
       "    .dataframe tbody tr th {\n",
       "        vertical-align: top;\n",
       "    }\n",
       "</style>\n",
       "<table border=\"1\" class=\"dataframe\">\n",
       "  <thead>\n",
       "    <tr style=\"text-align: right;\">\n",
       "      <th></th>\n",
       "      <th>t</th>\n",
       "      <th>red_pos_X</th>\n",
       "      <th>red_pos_Y</th>\n",
       "      <th>blue_pos_X</th>\n",
       "      <th>blue_pos_Y</th>\n",
       "      <th>redX</th>\n",
       "      <th>redY</th>\n",
       "      <th>blueX</th>\n",
       "      <th>blueY</th>\n",
       "      <th>red_disp</th>\n",
       "      <th>blue_disp</th>\n",
       "    </tr>\n",
       "  </thead>\n",
       "  <tbody>\n",
       "    <tr>\n",
       "      <th>0</th>\n",
       "      <td>1.718397</td>\n",
       "      <td>1.330174</td>\n",
       "      <td>0.993564</td>\n",
       "      <td>1.081700</td>\n",
       "      <td>-1.295918</td>\n",
       "      <td>0.000000</td>\n",
       "      <td>0.000000</td>\n",
       "      <td>0.000000</td>\n",
       "      <td>0.000000</td>\n",
       "      <td>0.000000</td>\n",
       "      <td>0.000000</td>\n",
       "    </tr>\n",
       "    <tr>\n",
       "      <th>1</th>\n",
       "      <td>2.998056</td>\n",
       "      <td>1.310404</td>\n",
       "      <td>1.012772</td>\n",
       "      <td>1.004997</td>\n",
       "      <td>-1.254394</td>\n",
       "      <td>-0.019769</td>\n",
       "      <td>0.019208</td>\n",
       "      <td>-0.076703</td>\n",
       "      <td>-0.076703</td>\n",
       "      <td>0.027564</td>\n",
       "      <td>0.108474</td>\n",
       "    </tr>\n",
       "    <tr>\n",
       "      <th>2</th>\n",
       "      <td>6.015073</td>\n",
       "      <td>1.270312</td>\n",
       "      <td>1.028386</td>\n",
       "      <td>1.113696</td>\n",
       "      <td>-1.321257</td>\n",
       "      <td>-0.059862</td>\n",
       "      <td>0.034822</td>\n",
       "      <td>0.031996</td>\n",
       "      <td>0.031996</td>\n",
       "      <td>0.069253</td>\n",
       "      <td>0.045249</td>\n",
       "    </tr>\n",
       "    <tr>\n",
       "      <th>3</th>\n",
       "      <td>8.267651</td>\n",
       "      <td>1.331131</td>\n",
       "      <td>0.948223</td>\n",
       "      <td>1.001845</td>\n",
       "      <td>-1.285209</td>\n",
       "      <td>0.000957</td>\n",
       "      <td>-0.045342</td>\n",
       "      <td>-0.079854</td>\n",
       "      <td>-0.079854</td>\n",
       "      <td>0.045352</td>\n",
       "      <td>0.112931</td>\n",
       "    </tr>\n",
       "    <tr>\n",
       "      <th>4</th>\n",
       "      <td>9.279321</td>\n",
       "      <td>1.346159</td>\n",
       "      <td>0.963485</td>\n",
       "      <td>1.113008</td>\n",
       "      <td>-1.261147</td>\n",
       "      <td>0.015985</td>\n",
       "      <td>-0.030079</td>\n",
       "      <td>0.031308</td>\n",
       "      <td>0.031308</td>\n",
       "      <td>0.034063</td>\n",
       "      <td>0.044276</td>\n",
       "    </tr>\n",
       "  </tbody>\n",
       "</table>\n",
       "</div>"
      ],
      "text/plain": [
       "          t  red_pos_X  red_pos_Y  blue_pos_X  blue_pos_Y      redX      redY  \\\n",
       "0  1.718397   1.330174   0.993564    1.081700   -1.295918  0.000000  0.000000   \n",
       "1  2.998056   1.310404   1.012772    1.004997   -1.254394 -0.019769  0.019208   \n",
       "2  6.015073   1.270312   1.028386    1.113696   -1.321257 -0.059862  0.034822   \n",
       "3  8.267651   1.331131   0.948223    1.001845   -1.285209  0.000957 -0.045342   \n",
       "4  9.279321   1.346159   0.963485    1.113008   -1.261147  0.015985 -0.030079   \n",
       "\n",
       "      blueX     blueY  red_disp  blue_disp  \n",
       "0  0.000000  0.000000  0.000000   0.000000  \n",
       "1 -0.076703 -0.076703  0.027564   0.108474  \n",
       "2  0.031996  0.031996  0.069253   0.045249  \n",
       "3 -0.079854 -0.079854  0.045352   0.112931  \n",
       "4  0.031308  0.031308  0.034063   0.044276  "
      ]
     },
     "execution_count": 7,
     "metadata": {},
     "output_type": "execute_result"
    }
   ],
   "source": [
    "df.head()"
   ]
  },
  {
   "cell_type": "code",
   "execution_count": 8,
   "metadata": {},
   "outputs": [
    {
     "data": {
      "text/plain": [
       "[<matplotlib.lines.Line2D at 0x1188bd128>]"
      ]
     },
     "execution_count": 8,
     "metadata": {},
     "output_type": "execute_result"
    },
    {
     "data": {
      "image/png": "[encoded data removed]",
      "text/plain": [
       "<matplotlib.figure.Figure at 0x1188bd3c8>"
      ]
     },
     "metadata": {},
     "output_type": "display_data"
    }
   ],
   "source": [
    "plt.plot(df.t, df.redX)\n",
    "plt.plot(df.t, df.redY)\n",
    "#plt.plot(df.t, df.red_disp)"
   ]
  },
  {
   "cell_type": "code",
   "execution_count": 9,
   "metadata": {},
   "outputs": [
    {
     "data": {
      "text/plain": [
       "[<matplotlib.lines.Line2D at 0x1188bda20>]"
      ]
     },
     "execution_count": 9,
     "metadata": {},
     "output_type": "execute_result"
    },
    {
     "data": {
      "image/png": "[encoded data removed]",
      "text/plain": [
       "<matplotlib.figure.Figure at 0x1188bd198>"
      ]
     },
     "metadata": {},
     "output_type": "display_data"
    }
   ],
   "source": [
    "plt.plot(df.t, df.red_disp)\n",
    "plt.plot(df.t, df.blue_disp)"
   ]
  },
  {
   "cell_type": "markdown",
   "metadata": {},
   "source": [
    "### Approach\n",
    "\n",
    "Because we are explicitly told that the objects are moving at constant velocity (speed AND direction), know they're moving in a line. Thus rather than estimating the V_x and V_y components separately I'm just recasting the problem in terms of displacement from position at time 0, then estimating the displacement/time, aka the speed, which is what the question asks for.\n",
    "\n",
    "It may be that later parts of the quesiton force me to discard this approach, but it works for now given the constraints of the problem."
   ]
  },
  {
   "cell_type": "code",
   "execution_count": 26,
   "metadata": {},
   "outputs": [
    {
     "name": "stderr",
     "output_type": "stream",
     "text": [
      "Auto-assigning NUTS sampler...\n",
      "Initializing NUTS using advi...\n",
      "Average ELBO = -240.94: 100%|██████████| 200000/200000 [00:18<00:00, 10694.75it/s]\n",
      "Finished [100%]: Average ELBO = -240.88\n",
      "100%|██████████| 3000/3000 [00:05<00:00, 538.21it/s]\n"
     ]
    }
   ],
   "source": [
    "# NOTE: the linear regression model we're trying to solve for is\n",
    "# given by:\n",
    "# disp = v*t + error\n",
    "# where disp is the displacement (from position at t=0), v is the velocity (displacement/time) and error is\n",
    "# the error\n",
    "\n",
    "with pm.Model() as model:\n",
    "    v = pm.Uniform('v', 0, 1)\n",
    "    err = pm.Uniform('err', 0, 1)\n",
    "    t = pm.Uniform('t', 0, 1)\n",
    "    y = pm.Normal('y', mu=v*t, sd=err, observed=df.red_disp)\n",
    "    trace = pm.sample(3000)\n",
    "    pm.plot_posterior_predictive_glm(trace, samples=100,\n",
    "                                 label='posterior predictive regression lines')"
   ]
  },
  {
   "cell_type": "code",
   "execution_count": 33,
   "metadata": {},
   "outputs": [],
   "source": [
    "def do_glm(formula, df):\n",
    "    with pm.Model() as model:\n",
    "        # specify glm and pass in data. The resulting linear model, its likelihood and\n",
    "        # and all its parameters are automatically added to our model.\n",
    "        pm.glm.glm(formula, df)\n",
    "        trace = pm.sample(1000) # draw 3000 posterior samples using NUTS sampling\n",
    "        pm.plot_posterior(trace,label='posterior predictive regression lines')"
   ]
  },
  {
   "cell_type": "code",
   "execution_count": 34,
   "metadata": {},
   "outputs": [
    {
     "name": "stderr",
     "output_type": "stream",
     "text": [
      "Auto-assigning NUTS sampler...\n",
      "Initializing NUTS using advi...\n",
      "Average ELBO = 114: 100%|██████████| 200000/200000 [00:20<00:00, 9595.83it/s]       \n",
      "Finished [100%]: Average ELBO = 113.19\n",
      "100%|██████████| 3000/3000 [00:12<00:00, 238.62it/s]\n"
     ]
    },
    {
     "data": {
      "image/png": "[encoded data removed]",
      "text/plain": [
       "<matplotlib.figure.Figure at 0x11cccb828>"
      ]
     },
     "metadata": {},
     "output_type": "display_data"
    }
   ],
   "source": [
    "do_glm(\"red_disp ~ t\", df)"
   ]
  },
  {
   "cell_type": "code",
   "execution_count": null,
   "metadata": {
    "collapsed": true
   },
   "outputs": [],
   "source": []
  }
 ],
 "metadata": {
  "kernelspec": {
   "display_name": "Python 3",
   "language": "python",
   "name": "python3"
  },
  "language_info": {
   "codemirror_mode": {
    "name": "ipython",
    "version": 3
   },
   "file_extension": ".py",
   "mimetype": "text/x-python",
   "name": "python",
   "nbconvert_exporter": "python",
   "pygments_lexer": "ipython3",
   "version": "3.6.2"
  }
 },
 "nbformat": 4,
 "nbformat_minor": 2
}
