{
 "cells": [
  {
   "cell_type": "code",
   "execution_count": null,
   "metadata": {
    "collapsed": true
   },
   "outputs": [],
   "source": [
    "import glob\n",
    "import numpy as np\n",
    "import pandas as pd\n",
    "import matplotlib.pyplot as plt\n",
    "\n",
    "import lmfit as lf\n",
    "\n",
    "# functions written for this project\n",
    "import utils"
   ]
  },
  {
   "cell_type": "markdown",
   "metadata": {},
   "source": [
    "You'll want the mat files and the struct: res.allData. Each row represents a trial. I never added a variable to label the headers so I describe them below. I bolded the variables you probably want to focus on. Hopefully you don't need to feed in the trials in the order they were presented to subjects but if so, you can figure it out with the other variables in the struct.\n",
    "\n",
    "\n",
    "OS data:\n",
    "\n",
    " * Staircase number for a given test block (= file number)\n",
    " * Eye (1=weaker eye, 2= fellow eye)\n",
    " * Mask Orientation (0=parallel, 90=orthogonal)\n",
    " * Binocular condition (1= monocular, 2=dichoptic)\n",
    " * Mask Contrast (michelson)\n",
    " * Trial number for this staircase\n",
    " * Probe contrast recommended by staircase algorithm\n",
    " * Response Accuracy (1=correct, 0=incorrect)\n",
    " * Probe Contrast used (I don't remember it ever being different from #7 and was really just a sanity check)\n",
    " * Interval that probe was presented in (1 or 2)\n",
    " * File number (=test block)\n",
    " \n",
    "SS data:\n",
    "\n",
    " * Staircase number for a given test block (= file number)\n",
    " * Eye (1=weaker eye, 2= fellow eye)\n",
    " * Mask Orientation (0=parallel, 90=orthogonal)\n",
    " * Binocular Condition (1= monocular, 2=dichoptic)\n",
    " * Trial number for this staircase\n",
    " * Contrast increment recommended by staircase algorithm\n",
    " * Response Accuracy (1=correct, 0=incorrect)\n",
    " * Mask Contrast  (michelson)\n",
    " * Probe location (1-4, let me know if you need to know which number represents which quadrant)\n",
    " * Response (1-4)\n",
    " * Probe contrast increment used (I don't remember it ever being different from #6 and was really just a sanity check)\n",
    " * File number (=test block)\n",
    "\n"
   ]
  },
  {
   "cell_type": "markdown",
   "metadata": {},
   "source": [
    "### Orientation Suppression"
   ]
  },
  {
   "cell_type": "code",
   "execution_count": null,
   "metadata": {
    "collapsed": true
   },
   "outputs": [],
   "source": [
    "os_data_file = \"cleanData/ah_filteredData_OS.mat\"\n",
    "os_data_files = glob.glob(\"cleanData/*filteredData_OS.mat\")"
   ]
  },
  {
   "cell_type": "code",
   "execution_count": null,
   "metadata": {},
   "outputs": [],
   "source": [
    "os_df = utils.load_individual_os_data(os_data_file)"
   ]
  },
  {
   "cell_type": "code",
   "execution_count": null,
   "metadata": {
    "collapsed": true
   },
   "outputs": [],
   "source": [
    "# sort in order trials were administered, ie block, staricase, trial\n",
    "os_df.sort_values([\"FileNumber\", \"StaircaseNumber\", \"TrialNumberStaircase\"], inplace=True)\n"
   ]
  },
  {
   "cell_type": "code",
   "execution_count": null,
   "metadata": {},
   "outputs": [],
   "source": [
    "# Since -1 and -2 represent baseline, these should both be true\n",
    "print(np.all(os_df[os_df.Orientation==-1]['MaskContrast']==0))\n",
    "print(np.all(os_df[os_df.Orientation==-2]['MaskContrast']==0))"
   ]
  },
  {
   "cell_type": "code",
   "execution_count": null,
   "metadata": {},
   "outputs": [],
   "source": [
    "os_df.head(n=20)"
   ]
  },
  {
   "cell_type": "markdown",
   "metadata": {},
   "source": [
    "### Grouping"
   ]
  },
  {
   "cell_type": "code",
   "execution_count": null,
   "metadata": {},
   "outputs": [],
   "source": [
    "gvars = [\"Eye\", \"Orientation\", \"Presentation\"]\n",
    "gvars_mask = gvars + [\"MaskContrast\"]\n",
    "gvars_masktarget = gvars_mask + [\"ProbeContrastUsed\"]\n",
    "grouped = os_df.groupby(gvars_masktarget)\n",
    "for (gv, gr) in grouped:\n",
    "    print(gv, len(gr))"
   ]
  },
  {
   "cell_type": "markdown",
   "metadata": {},
   "source": [
    "#### Develop a function that should be minimized to fit the model\n",
    "\n",
    "Within each staircase, you have numerous trials at different MaskContrasts, and as outcomes you have ResponseAccuracy (0|1). In the paper they describe these as the number of trials (n) and correct responses (c) for each target (here, ProbeContrastUsed) and mask (MaskContrast) level.\n",
    "\n",
    "Ultimately, they fit their parameters (p, q, z, sigma_int - but mine will be different since i'm using a different model) by minimizing a likelihood function of these parameters given (vectors) m, t, n, c which are the different mask/target conditions.\n",
    "\n",
    "Questions:\n",
    " * what are the parameters of the two-stage model, and which of those are going to be fixed and which are going to be free to vary, ie fit?\n",
    " * What is this normal integral d' to percent correct (P(c)) transformation?\n",
    "     * Phi(t) is the cdf of the normal distribution, tells you the probability that the normal variable is less than t\n",
    "     * We actually dont use d-prime at all in the two-stage model (they use it for their noise model), so we can just stay in %-correct land\n",
    " * What is the proper equation for the likelihood of the parameters given m, t, n, and c?\n",
    " * What is the proper function for calculating percent correct from the model parameters?"
   ]
  },
  {
   "cell_type": "code",
   "execution_count": null,
   "metadata": {
    "collapsed": true
   },
   "outputs": [],
   "source": [
    "params = lf.Parameters()\n",
    "params.add('w_m', value=1, min=0.0, vary=True)\n",
    "params.add('w_d', value=0.0249, min=0.0, vary=True)\n",
    "params.add('a', value=0, vary=False)\n",
    "params.add('k', value=0.2, vary=False)\n",
    "params.add('p', value=8, vary=False)\n",
    "params.add('q', value=6.5, vary=False)\n",
    "params.add('Z', value=.0084, vary=False)"
   ]
  },
  {
   "cell_type": "code",
   "execution_count": null,
   "metadata": {
    "collapsed": true
   },
   "outputs": [],
   "source": [
    "s.two_stage_fac_resp(params, [1], [0], [0], [1])"
   ]
  },
  {
   "cell_type": "markdown",
   "metadata": {},
   "source": [
    "### Surround Suppression"
   ]
  },
  {
   "cell_type": "code",
   "execution_count": null,
   "metadata": {
    "collapsed": true
   },
   "outputs": [],
   "source": [
    "ss_data_file = \"cleanData/ah_filteredData_SS.mat\""
   ]
  },
  {
   "cell_type": "code",
   "execution_count": null,
   "metadata": {
    "collapsed": true
   },
   "outputs": [],
   "source": [
    "ss_df = utils.load_individual_ss_data(ss_data_file)"
   ]
  },
  {
   "cell_type": "code",
   "execution_count": null,
   "metadata": {},
   "outputs": [],
   "source": [
    "ss_df[ss_df.Orientation==-1]"
   ]
  },
  {
   "cell_type": "code",
   "execution_count": null,
   "metadata": {
    "collapsed": true
   },
   "outputs": [],
   "source": []
  }
 ],
 "metadata": {
  "kernelspec": {
   "display_name": "Python 3",
   "language": "python",
   "name": "python3"
  },
  "language_info": {
   "codemirror_mode": {
    "name": "ipython",
    "version": 3
   },
   "file_extension": ".py",
   "mimetype": "text/x-python",
   "name": "python",
   "nbconvert_exporter": "python",
   "pygments_lexer": "ipython3",
   "version": "3.6.2"
  }
 },
 "nbformat": 4,
 "nbformat_minor": 2
}
