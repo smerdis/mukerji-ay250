{
 "cells": [
  {
   "cell_type": "markdown",
   "metadata": {},
   "source": [
    "# Final Project - Main Notebook\n",
    "\n",
    "\n",
    "So, for this project, I decided to fit a two-stage model of interocular suppression (described here: http://jov.arvojournals.org/article.aspx?articleid=2122317) to some psychophysics data, then visualize the results. I hoped to do the fitting using the procedure described here: http://journals.plos.org/plosone/article?id=10.1371/journal.pone.0150942#sec019.\n",
    "\n",
    "I developed the code in this notebook, then moved it over to some python files as it reached completion. There are roughly three parts:\n",
    " * Utils (utils.py) for reading in the data, converting it to a data frame, grouping and summarizing conditions, and fitting the model.\n",
    "  * This stuff was relatively straightforward.\n",
    "  * There are two tasks, Orientation Suppression and Surround Suppression. I wrote my code to be as general as possible so it could be applied to both.\n",
    " * The model, implemented in two_stage_model.py.\n",
    "  * This took wayyyy too long, because I got bogged down in the deatails of the model and the fitting procedure\n",
    " * The visualization code, which resides in plotting.py\n",
    "  * This got short shrift, because I spent too long fitting the model\n",
    " * I wrote some rudimentary tests, these are at the bottom.\n",
    "\n",
    "The data is archived here: https://www.dropbox.com/s/ffaj4hdfgkiwd2b/data.tar.gz?dl=0 so it can be downloaded. Once the \"cleanData\" folder is in the same directory as this notebook and the python files, doing a \"Restart and Run all Cells\" is probably the easiest way to see what I did."
   ]
  },
  {
   "cell_type": "code",
   "execution_count": null,
   "metadata": {
    "collapsed": true
   },
   "outputs": [],
   "source": [
    "%matplotlib inline"
   ]
  },
  {
   "cell_type": "code",
   "execution_count": null,
   "metadata": {},
   "outputs": [],
   "source": [
    "import numpy as np\n",
    "import pandas as pd\n",
    "\n",
    "from bokeh.plotting import output_notebook, show\n",
    "\n",
    "# functions written for this project\n",
    "import utils\n",
    "import two_stage_model as model\n",
    "import plotting"
   ]
  },
  {
   "cell_type": "markdown",
   "metadata": {},
   "source": [
    "### Pick a task and load the data\n",
    "\n",
    "To run the surround suppression task instead, change which line is commented out below"
   ]
  },
  {
   "cell_type": "code",
   "execution_count": null,
   "metadata": {},
   "outputs": [],
   "source": [
    "os_df = utils.load_all_data(\"cleanData/*filteredData_OS.mat\", utils.load_individual_os_data)\n",
    "# os_df = utils.load_all_data(\"cleanData/*filteredData_SS.mat\", utils.load_individual_ss_data)"
   ]
  },
  {
   "cell_type": "code",
   "execution_count": null,
   "metadata": {
    "collapsed": true
   },
   "outputs": [],
   "source": [
    "gvars = [\"Subject\", \"Eye\", \"Orientation\", \"Presentation\"] # Presentation conditions\n",
    "gvars_mask = gvars + [\"MaskContrast\"] # Mask contrast, m in the model\n",
    "gvars_masktarget = gvars_mask + [\"ProbeContrastUsed\"] # Target contrast, t in the model"
   ]
  },
  {
   "cell_type": "markdown",
   "metadata": {},
   "source": [
    "#### Summarize the data at the level we need"
   ]
  },
  {
   "cell_type": "code",
   "execution_count": null,
   "metadata": {},
   "outputs": [],
   "source": [
    "grouped, condensed_df = utils.summarize_conditions(os_df, gvars_masktarget)\n",
    "df = condensed_df.reset_index()"
   ]
  },
  {
   "cell_type": "markdown",
   "metadata": {},
   "source": [
    "#### Fit the model\n",
    "\n"
   ]
  },
  {
   "cell_type": "code",
   "execution_count": null,
   "metadata": {},
   "outputs": [],
   "source": [
    "params = model.two_stage_parameters()"
   ]
  },
  {
   "cell_type": "code",
   "execution_count": null,
   "metadata": {},
   "outputs": [],
   "source": [
    "os_fitted_params = df.groupby(gvars).apply(utils.model_condition, model.two_stage_response, params)"
   ]
  },
  {
   "cell_type": "code",
   "execution_count": null,
   "metadata": {},
   "outputs": [],
   "source": [
    "os_fitted_df = os_fitted_params.reset_index().dropna()"
   ]
  },
  {
   "cell_type": "markdown",
   "metadata": {},
   "source": [
    "### Visualization\n",
    "\n",
    "I plot the fitted w_m (x) and w_d parameters, and have side histograms to show their distributions. Hover to see other information."
   ]
  },
  {
   "cell_type": "code",
   "execution_count": null,
   "metadata": {
    "collapsed": true
   },
   "outputs": [],
   "source": [
    "%load_ext autoreload\n",
    "% autoreload 2"
   ]
  },
  {
   "cell_type": "code",
   "execution_count": null,
   "metadata": {},
   "outputs": [],
   "source": [
    "output_notebook()\n",
    "renderer, layout = plotting.plot_suppressive_weights(os_fitted_df)"
   ]
  },
  {
   "cell_type": "code",
   "execution_count": null,
   "metadata": {},
   "outputs": [],
   "source": [
    "show(layout)"
   ]
  },
  {
   "cell_type": "markdown",
   "metadata": {},
   "source": [
    "### Testing"
   ]
  },
  {
   "cell_type": "code",
   "execution_count": null,
   "metadata": {},
   "outputs": [],
   "source": [
    "!pytest test_utils.py"
   ]
  },
  {
   "cell_type": "code",
   "execution_count": null,
   "metadata": {},
   "outputs": [],
   "source": [
    "!pytest test_model.py"
   ]
  },
  {
   "cell_type": "code",
   "execution_count": null,
   "metadata": {
    "collapsed": true
   },
   "outputs": [],
   "source": []
  }
 ],
 "metadata": {
  "kernelspec": {
   "display_name": "Python 3",
   "language": "python",
   "name": "python3"
  },
  "language_info": {
   "codemirror_mode": {
    "name": "ipython",
    "version": 3
   },
   "file_extension": ".py",
   "mimetype": "text/x-python",
   "name": "python",
   "nbconvert_exporter": "python",
   "pygments_lexer": "ipython3",
   "version": "3.6.2"
  }
 },
 "nbformat": 4,
 "nbformat_minor": 2
}
