{
 "cells": [
  {
   "cell_type": "code",
   "execution_count": null,
   "metadata": {
    "collapsed": true
   },
   "outputs": [],
   "source": [
    "%matplotlib inline"
   ]
  },
  {
   "cell_type": "code",
   "execution_count": null,
   "metadata": {},
   "outputs": [],
   "source": [
    "import glob\n",
    "import numpy as np\n",
    "import pandas as pd\n",
    "import matplotlib.pyplot as plt\n",
    "import seaborn as sns\n",
    "\n",
    "import lmfit as lf\n",
    "\n",
    "from scipy.stats import norm\n",
    "\n",
    "# functions written for this project\n",
    "import utils\n",
    "import two_stage_model as model"
   ]
  },
  {
   "cell_type": "markdown",
   "metadata": {},
   "source": [
    "### Orientation Suppression"
   ]
  },
  {
   "cell_type": "code",
   "execution_count": null,
   "metadata": {},
   "outputs": [],
   "source": [
    "os_df = utils.load_all_data(\"cleanData/*filteredData_OS.mat\", utils.load_individual_os_data)"
   ]
  },
  {
   "cell_type": "code",
   "execution_count": null,
   "metadata": {},
   "outputs": [],
   "source": [
    "# Since -1 and -2 represent baseline, these should both be true\n",
    "print(np.all(os_df[os_df.Orientation==-1]['MaskContrast']==0))\n",
    "print(np.all(os_df[os_df.Orientation==-2]['MaskContrast']==0))"
   ]
  },
  {
   "cell_type": "code",
   "execution_count": null,
   "metadata": {},
   "outputs": [],
   "source": [
    "os_df.head(n=5)"
   ]
  },
  {
   "cell_type": "code",
   "execution_count": null,
   "metadata": {
    "collapsed": true
   },
   "outputs": [],
   "source": [
    "gvars = [\"Subject\", \"Eye\", \"Orientation\", \"Presentation\"] # Presentation conditions\n",
    "gvars_mask = gvars + [\"MaskContrast\"] # Mask contrast, m in the model\n",
    "gvars_masktarget = gvars_mask + [\"ProbeContrastUsed\"] # Target contrast, t in the model"
   ]
  },
  {
   "cell_type": "code",
   "execution_count": null,
   "metadata": {},
   "outputs": [],
   "source": [
    "grouped, condensed_df = utils.summarize_conditions(os_df, gvars_masktarget)"
   ]
  },
  {
   "cell_type": "code",
   "execution_count": null,
   "metadata": {},
   "outputs": [],
   "source": [
    "df = condensed_df.reset_index()\n",
    "df.head(n=10)"
   ]
  },
  {
   "cell_type": "markdown",
   "metadata": {},
   "source": [
    "#### Develop a function that should be minimized to fit the model\n",
    "\n",
    "Within each staircase, you have numerous trials at different MaskContrasts, and as outcomes you have ResponseAccuracy (0|1). In the paper they describe these as the number of trials (n) and correct responses (c) for each target (here, ProbeContrastUsed) and mask (MaskContrast) level.\n",
    "\n",
    "Ultimately, they fit their parameters (p, q, z, sigma_int - but mine will be different since i'm using a different model) by minimizing a likelihood function of these parameters given (vectors) m, t, n, c which are the different mask/target conditions.\n",
    "\n",
    "Questions:\n",
    " * what are the parameters of the two-stage model, and which of those are going to be fixed and which are going to be free to vary, ie fit?\n",
    " * What is this normal integral d' to percent correct (P(c)) transformation?\n",
    "     * Phi(t) is the cdf of the normal distribution, tells you the probability that the normal variable is less than t\n",
    " * What is the proper equation for the likelihood of the parameters given m, t, n, and c?\n",
    " * What is the proper function for calculating percent correct from the model parameters?"
   ]
  },
  {
   "cell_type": "code",
   "execution_count": null,
   "metadata": {
    "collapsed": true
   },
   "outputs": [],
   "source": [
    "params = lf.Parameters()\n",
    "params.add('m', value=1.3, vary=False)\n",
    "params.add('S', value=1, vary=False)\n",
    "params.add('w_m', value=1, min=0.0, vary=True)\n",
    "params.add('w_d', value=1, min=0.0, vary=True)\n",
    "params.add('a', value=0, min=0.0, vary=True)\n",
    "params.add('k', value=0.2, vary=False)\n",
    "params.add('p', value=8, vary=False)\n",
    "params.add('q', value=6.5, vary=False)\n",
    "params.add('Z', value=.0085, vary=False)"
   ]
  },
  {
   "cell_type": "code",
   "execution_count": null,
   "metadata": {},
   "outputs": [],
   "source": [
    "fitted_params = df.groupby(gvars).apply(utils.model_condition, model.two_stage_response, params)"
   ]
  },
  {
   "cell_type": "code",
   "execution_count": null,
   "metadata": {},
   "outputs": [],
   "source": [
    "fitted_df = fitted_params.reset_index()"
   ]
  },
  {
   "cell_type": "code",
   "execution_count": null,
   "metadata": {},
   "outputs": [],
   "source": [
    "fitted_df"
   ]
  },
  {
   "cell_type": "code",
   "execution_count": null,
   "metadata": {},
   "outputs": [],
   "source": [
    "plt.scatter(fitted_df['w_m'], fitted_df['w_d'])"
   ]
  },
  {
   "cell_type": "code",
   "execution_count": null,
   "metadata": {},
   "outputs": [],
   "source": [
    "sns.violinplot(fitted_df['w_m'])"
   ]
  },
  {
   "cell_type": "code",
   "execution_count": null,
   "metadata": {},
   "outputs": [],
   "source": [
    "sns.violinplot(fitted_df['w_d'])"
   ]
  },
  {
   "cell_type": "code",
   "execution_count": null,
   "metadata": {},
   "outputs": [],
   "source": [
    "sns.violinplot(fitted_df['a'])"
   ]
  },
  {
   "cell_type": "markdown",
   "metadata": {},
   "source": [
    "### Surround Suppression"
   ]
  },
  {
   "cell_type": "code",
   "execution_count": null,
   "metadata": {
    "collapsed": true
   },
   "outputs": [],
   "source": [
    "ss_df = utils.load_all_data(\"cleanData/*filteredData_SS.mat\", utils.load_individual_ss_data)"
   ]
  },
  {
   "cell_type": "code",
   "execution_count": null,
   "metadata": {
    "collapsed": true
   },
   "outputs": [],
   "source": []
  },
  {
   "cell_type": "markdown",
   "metadata": {},
   "source": [
    "Testing LL"
   ]
  },
  {
   "cell_type": "code",
   "execution_count": null,
   "metadata": {},
   "outputs": [],
   "source": [
    "model.loglikelihood(10, 4, .5)"
   ]
  },
  {
   "cell_type": "code",
   "execution_count": null,
   "metadata": {},
   "outputs": [],
   "source": [
    "!pytest test_utils.py"
   ]
  },
  {
   "cell_type": "code",
   "execution_count": null,
   "metadata": {
    "collapsed": true
   },
   "outputs": [],
   "source": []
  }
 ],
 "metadata": {
  "kernelspec": {
   "display_name": "Python 3",
   "language": "python",
   "name": "python3"
  },
  "language_info": {
   "codemirror_mode": {
    "name": "ipython",
    "version": 3
   },
   "file_extension": ".py",
   "mimetype": "text/x-python",
   "name": "python",
   "nbconvert_exporter": "python",
   "pygments_lexer": "ipython3",
   "version": "3.6.2"
  }
 },
 "nbformat": 4,
 "nbformat_minor": 2
}
